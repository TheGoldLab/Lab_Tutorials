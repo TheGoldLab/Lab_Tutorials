{
 "cells": [
  {
   "cell_type": "markdown",
   "metadata": {
    "slideshow": {
     "slide_type": "slide"
    },
    "toc": true
   },
   "source": [
    "<h1>Table of Contents<span class=\"tocSkip\"></span></h1>\n",
    "<div class=\"toc\"><ul class=\"toc-item\"><li><span><a href=\"#Recap-on-urn-estimation-with-no-hazard\" data-toc-modified-id=\"Recap-on-urn-estimation-with-no-hazard-1\"><span class=\"toc-item-num\">1&nbsp;&nbsp;</span>Recap on urn estimation with no hazard</a></span><ul class=\"toc-item\"><li><span><a href=\"#Some-mathematical-notation\" data-toc-modified-id=\"Some-mathematical-notation-1.1\"><span class=\"toc-item-num\">1.1&nbsp;&nbsp;</span>Some mathematical notation</a></span></li><li><span><a href=\"#The-posterior\" data-toc-modified-id=\"The-posterior-1.2\"><span class=\"toc-item-num\">1.2&nbsp;&nbsp;</span>The posterior</a></span></li><li><span><a href=\"#The-log-posterior-odds\" data-toc-modified-id=\"The-log-posterior-odds-1.3\"><span class=\"toc-item-num\">1.3&nbsp;&nbsp;</span>The log-posterior odds</a></span></li></ul></li><li><span><a href=\"#When-there-is-a-constant-&amp;-known-hazard-rate\" data-toc-modified-id=\"When-there-is-a-constant-&amp;-known-hazard-rate-2\"><span class=\"toc-item-num\">2&nbsp;&nbsp;</span>When there is a constant &amp; known hazard rate</a></span></li></ul></div>"
   ]
  },
  {
   "cell_type": "markdown",
   "metadata": {
    "slideshow": {
     "slide_type": "slide"
    }
   },
   "source": [
    "# Recap on urn estimation with no hazard"
   ]
  },
  {
   "cell_type": "markdown",
   "metadata": {
    "slideshow": {
     "slide_type": "fragment"
    }
   },
   "source": [
    "- beads are sampled sequentially from a single urn which can be of two sorts: red vs. blue\n",
    "- select the urn from which you believe the beads are being sampled from"
   ]
  },
  {
   "cell_type": "markdown",
   "metadata": {
    "slideshow": {
     "slide_type": "subslide"
    }
   },
   "source": [
    "## Some mathematical notation\n",
    "\\begin{equation*}\n",
    "U := \\text{Urn } \\in \\{\\text{red},\\text{blue}  \\}\n",
    "\\end{equation*}\n",
    "\\begin{equation*}\n",
    "b_n := \\text{bead number }n\\text{      }   (b_n\\in \\{\\text{red},\\text{blue}  \\})\n",
    "\\end{equation*}\n",
    "\\begin{equation*}\n",
    "l_U(b) := P(b|U)=0.8 \\text{   if } b=U \\text{   and }0.2\\text{    otherwise}\n",
    "\\end{equation*}\n"
   ]
  },
  {
   "cell_type": "markdown",
   "metadata": {
    "slideshow": {
     "slide_type": "slide"
    }
   },
   "source": [
    "## The posterior"
   ]
  },
  {
   "cell_type": "code",
   "execution_count": 2,
   "metadata": {
    "slideshow": {
     "slide_type": "skip"
    }
   },
   "outputs": [],
   "source": [
    "import os, sys\n",
    "sys.path.append(os.path.expanduser('~/Git/GitHub/work/Analysis_Audio2AFC_ChangePoint/Python_modules'))\n",
    "import mmcomplexity as mmx\n",
    "import matplotlib.pyplot as plt\n",
    "import pandas as pd\n",
    "import numpy as np\n",
    "%matplotlib inline"
   ]
  },
  {
   "cell_type": "markdown",
   "metadata": {
    "slideshow": {
     "slide_type": "fragment"
    }
   },
   "source": [
    "\\begin{equation}\\label{eq:}\n",
    "P(U|b_{1:n}) \\propto \\pi(U)\\prod_{i=1}^n l_U(b_i)\n",
    "\\end{equation}\n"
   ]
  },
  {
   "cell_type": "code",
   "execution_count": null,
   "metadata": {},
   "outputs": [],
   "source": []
  },
  {
   "cell_type": "markdown",
   "metadata": {
    "slideshow": {
     "slide_type": "slide"
    }
   },
   "source": [
    "## The log-posterior odds"
   ]
  },
  {
   "cell_type": "markdown",
   "metadata": {},
   "source": [
    "# When there is a constant & known hazard rate"
   ]
  },
  {
   "cell_type": "code",
   "execution_count": null,
   "metadata": {},
   "outputs": [],
   "source": []
  }
 ],
 "metadata": {
  "celltoolbar": "Slideshow",
  "kernelspec": {
   "display_name": "Python 3.7 (mmcomplexity)",
   "language": "python",
   "name": "mmcomplexity"
  },
  "language_info": {
   "codemirror_mode": {
    "name": "ipython",
    "version": 3
   },
   "file_extension": ".py",
   "mimetype": "text/x-python",
   "name": "python",
   "nbconvert_exporter": "python",
   "pygments_lexer": "ipython3",
   "version": "3.7.3"
  },
  "latex_envs": {
   "LaTeX_envs_menu_present": true,
   "autoclose": false,
   "autocomplete": true,
   "bibliofile": "biblio.bib",
   "cite_by": "apalike",
   "current_citInitial": 1,
   "eqLabelWithNumbers": true,
   "eqNumInitial": 1,
   "hotkeys": {
    "equation": "Ctrl-E",
    "itemize": "Ctrl-I"
   },
   "labels_anchors": false,
   "latex_user_defs": false,
   "report_style_numbering": false,
   "user_envs_cfg": false
  },
  "toc": {
   "base_numbering": 1,
   "nav_menu": {},
   "number_sections": true,
   "sideBar": true,
   "skip_h1_title": false,
   "title_cell": "Table of Contents",
   "title_sidebar": "Contents",
   "toc_cell": true,
   "toc_position": {},
   "toc_section_display": true,
   "toc_window_display": true
  }
 },
 "nbformat": 4,
 "nbformat_minor": 2
}
